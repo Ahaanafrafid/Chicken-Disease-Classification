{
 "cells": [
  {
   "cell_type": "code",
   "execution_count": 25,
   "metadata": {},
   "outputs": [
    {
     "data": {
      "text/plain": [
       "'C:\\\\Users\\\\19789\\\\Desktop\\\\SNHU\\\\data science\\\\Chicken Disease project (end to end)\\\\Chicken-Disease-Classification'"
      ]
     },
     "execution_count": 25,
     "metadata": {},
     "output_type": "execute_result"
    }
   ],
   "source": [
    "import sys\n",
    "import os\n",
    "\n",
    "# Append the path to the Chicken-Disease-Classification directory\n",
    "sys.path.append(r'C:\\Users\\19789\\Desktop\\SNHU\\data science\\Chicken Disease project (end to end)\\Chicken-Disease-Classification')\n",
    "import os\n",
    "os.chdir(\"C:\\\\Users\\\\19789\\\\Desktop\\\\SNHU\\\\data science\\\\Chicken Disease project (end to end)\\\\Chicken-Disease-Classification\")\n",
    "\n",
    "%pwd"
   ]
  },
  {
   "cell_type": "code",
   "execution_count": 32,
   "metadata": {},
   "outputs": [],
   "source": [
    "from dataclasses import dataclass\n",
    "from pathlib import Path\n",
    "\n",
    "#@dataclass(frozen=True)\n",
    "class DataIngestionConfig:\n",
    "    def __init__(self, root_dir: str, source_URL: str, local_data_file: str, unzip_dir: str):\n",
    "        self.root_dir = root_dir\n",
    "        self.source_URL = source_URL\n",
    "        self.local_data_file = local_data_file\n",
    "        self.unzip_dir = unzip_dir"
   ]
  },
  {
   "cell_type": "code",
   "execution_count": 27,
   "metadata": {},
   "outputs": [],
   "source": [
    "from src.ChickenDiseaseClassification.constants import *\n",
    "from src.ChickenDiseaseClassification.utils.common import read_yaml, create_directories"
   ]
  },
  {
   "cell_type": "code",
   "execution_count": 28,
   "metadata": {},
   "outputs": [],
   "source": [
    "class ConfigurationManager:\n",
    "  def __init__(\n",
    "    self,\n",
    "    config_filepath = CONFIG_FILE_PATH,\n",
    "    params_filepath = PARAMS_FILE_PATH):\n",
    "\n",
    "    self.config = read_yaml(config_filepath)\n",
    "    self.params = read_yaml(params_filepath)\n",
    "\n",
    "    create_directories([self.config.artifacts_root])\n",
    "\n",
    "\n",
    "  def get_data_ingestion_config(self) -> DataIngestionConfig:\n",
    "    config = self.config.data_ingestion\n",
    "\n",
    "    create_directories([config.root_dir])\n",
    "\n",
    "    data_ingestion_config = DataIngestionConfig(\n",
    "      root_dir= config.root_dir,\n",
    "      source_URL= config.source_URL,\n",
    "      local_data_file= config.local_data_file,\n",
    "      unzip_dir= config.unzip_dir\n",
    "    )\n",
    "\n",
    "    return data_ingestion_config"
   ]
  },
  {
   "cell_type": "code",
   "execution_count": 29,
   "metadata": {},
   "outputs": [],
   "source": [
    "import os\n",
    "import urllib.request as request\n",
    "import zipfile\n",
    "from src.ChickenDiseaseClassification import logger"
   ]
  },
  {
   "cell_type": "code",
   "execution_count": 30,
   "metadata": {},
   "outputs": [],
   "source": [
    "class DataIngestion:\n",
    "  def __init__(self, config: DataIngestionConfig):\n",
    "    self.config = config\n",
    "\n",
    "\n",
    "  def download_file(self):\n",
    "    if not os.path.exists(self.config.local_data_file):\n",
    "      filename, headers = request.urlretrieve(\n",
    "        url = self.config.source_URL,\n",
    "        filename = self.config.local_data_file\n",
    "      )\n",
    "      logger.info(f\"{filename} Download! with following info: \\n{headers}\")\n",
    "    else:\n",
    "        logger.info(f\"File already exsists of size: {get_size(Path(self.config.local_data_file))}\")\n",
    "\n",
    "\n",
    "  def extract_zip_file(self):\n",
    "    \"\"\"\n",
    "    Zip_file_path: str\n",
    "    extracts the zip file into the data directory\n",
    "    functions returns none\n",
    "\n",
    "    \"\"\"\n",
    "    unzip_path = self.config.unzip_dir\n",
    "    os.makedirs(unzip_path, exist_ok=True)\n",
    "    with zipfile.ZipFile(self.config.local_data_file, 'r') as zip_ref:\n",
    "        zip_ref.extractall(unzip_path)"
   ]
  },
  {
   "cell_type": "code",
   "execution_count": 33,
   "metadata": {},
   "outputs": [
    {
     "name": "stdout",
     "output_type": "stream",
     "text": [
      "[2024-10-31 16:07:00,047: INFO: common: yaml file: config\\config.yaml loaded successfully]\n",
      "[2024-10-31 16:07:00,048: INFO: common: yaml file: params.yaml loaded successfully]\n",
      "[2024-10-31 16:07:00,048: INFO: common: created directory at: artifacts]\n",
      "[2024-10-31 16:07:00,049: INFO: common: created directory at: artifacts/data_ingestion]\n",
      "[2024-10-31 16:07:01,958: INFO: 2789449089: artifacts/data_ingestion/data.zip Download! with following info: \n",
      "Connection: close\n",
      "Content-Length: 11616915\n",
      "Cache-Control: max-age=300\n",
      "Content-Security-Policy: default-src 'none'; style-src 'unsafe-inline'; sandbox\n",
      "Content-Type: application/zip\n",
      "ETag: \"adf745abc03891fe493c3be264ec012691fe3fa21d861f35a27edbe6d86a76b1\"\n",
      "Strict-Transport-Security: max-age=31536000\n",
      "X-Content-Type-Options: nosniff\n",
      "X-Frame-Options: deny\n",
      "X-XSS-Protection: 1; mode=block\n",
      "X-GitHub-Request-Id: D9D0:1740F1:2B84FCF:2FBE3AC:6723E340\n",
      "Accept-Ranges: bytes\n",
      "Date: Thu, 31 Oct 2024 20:06:27 GMT\n",
      "Via: 1.1 varnish\n",
      "X-Served-By: cache-yul1970058-YUL\n",
      "X-Cache: MISS\n",
      "X-Cache-Hits: 0\n",
      "X-Timer: S1730405187.356165,VS0,VE280\n",
      "Vary: Authorization,Accept-Encoding,Origin\n",
      "Access-Control-Allow-Origin: *\n",
      "Cross-Origin-Resource-Policy: cross-origin\n",
      "X-Fastly-Request-ID: 1ac8d27dbc3e4ade431b5de08ae3ec7a34191f1e\n",
      "Expires: Thu, 31 Oct 2024 20:11:27 GMT\n",
      "Source-Age: 0\n",
      "\n",
      "]\n"
     ]
    }
   ],
   "source": [
    "try:\n",
    "    config = ConfigurationManager()\n",
    "    data_ingestion_config = config.get_data_ingestion_config()\n",
    "    data_ingestion = DataIngestion(config = data_ingestion_config)\n",
    "    data_ingestion.download_file()\n",
    "    data_ingestion.extract_zip_file()\n",
    "except Exception as e:\n",
    "    raise e"
   ]
  },
  {
   "cell_type": "code",
   "execution_count": null,
   "metadata": {},
   "outputs": [],
   "source": []
  },
  {
   "cell_type": "code",
   "execution_count": null,
   "metadata": {},
   "outputs": [],
   "source": []
  }
 ],
 "metadata": {
  "kernelspec": {
   "display_name": "chicken",
   "language": "python",
   "name": "python3"
  },
  "language_info": {
   "codemirror_mode": {
    "name": "ipython",
    "version": 3
   },
   "file_extension": ".py",
   "mimetype": "text/x-python",
   "name": "python",
   "nbconvert_exporter": "python",
   "pygments_lexer": "ipython3",
   "version": "3.8.20"
  }
 },
 "nbformat": 4,
 "nbformat_minor": 2
}
